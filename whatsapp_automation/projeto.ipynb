{
 "cells": [
  {
   "cell_type": "code",
   "execution_count": 7,
   "metadata": {},
   "outputs": [],
   "source": [
    "# Automação de encaminhamento de mensagens no whatsapp\n",
    "# Usando a funcionalidade nativa de encaminhamento do whatsapp"
   ]
  },
  {
   "cell_type": "code",
   "execution_count": 12,
   "metadata": {},
   "outputs": [],
   "source": [
    "from selenium import webdriver\n",
    "from selenium.webdriver.chrome.service import Service\n",
    "from webdriver_manager.chrome import ChromeDriverManager\n",
    "\n",
    "service = Service(ChromeDriverManager().install())\n",
    "nav = webdriver.Chrome(service=service)\n",
    "nav.get(\"https://web.whatsapp.com\")"
   ]
  },
  {
   "cell_type": "code",
   "execution_count": null,
   "metadata": {},
   "outputs": [],
   "source": [
    "mensagem = \"\"\"Fala galera!!\n",
    "Bom dia, tudo bem?\n",
    "O que vocês estão fazendo?\n",
    "\"\"\"\n",
    "\n",
    "list = [\"Amor <3\", \"Lugar Nenhum\"]\n",
    "\n",
    "# Enviar a mensagem para o meu número para depois encaminhar\n",
    "# Passos para seguir\n",
    "\n",
    "# 1- Clicar na lupa\n",
    "nav.find_element('xpath')\n",
    "# 2- Escrever meu número\n",
    "\n",
    "# 3- Clicar no enter"
   ]
  }
 ],
 "metadata": {
  "kernelspec": {
   "display_name": "Python 3",
   "language": "python",
   "name": "python3"
  },
  "language_info": {
   "codemirror_mode": {
    "name": "ipython",
    "version": 3
   },
   "file_extension": ".py",
   "mimetype": "text/x-python",
   "name": "python",
   "nbconvert_exporter": "python",
   "pygments_lexer": "ipython3",
   "version": "3.10.12"
  },
  "orig_nbformat": 4
 },
 "nbformat": 4,
 "nbformat_minor": 2
}
